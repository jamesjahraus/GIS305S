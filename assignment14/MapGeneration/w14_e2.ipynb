{
 "cells": [
  {
   "cell_type": "markdown",
   "metadata": {},
   "source": [
    "## GIS 305 Week 14 - Exercise 2\n",
    "\n",
    "> James Jahraus\n",
    "> 2021-04-27"
   ]
  },
  {
   "cell_type": "code",
   "execution_count": 20,
   "metadata": {},
   "outputs": [],
   "source": [
    "aprx = arcpy.mp.ArcGISProject(\"CURRENT\")\n",
    "map_doc = aprx.listMaps()[0]\n",
    "\n",
    "lyr = map_doc.listLayers(\"U.S. States (Generalized)\")[0]\n",
    "sym = lyr.symbology"
   ]
  },
  {
   "cell_type": "code",
   "execution_count": 21,
   "metadata": {},
   "outputs": [],
   "source": [
    "sym.renderer.symbol.color = {'RGB': [255, 0, 0, 100]}\n",
    "sym.renderer.symbol.outlineColor = {'RGB': [0, 0, 0, 100]}\n",
    "lyr.symbology = sym\n",
    "lyr.transparency = 33"
   ]
  },
  {
   "cell_type": "code",
   "execution_count": null,
   "metadata": {},
   "outputs": [],
   "source": []
  }
 ],
 "metadata": {
  "kernelspec": {
   "display_name": "ArcGISPro",
   "language": "Python",
   "name": "python3"
  },
  "language_info": {
   "file_extension": ".py",
   "name": "python",
   "version": "3"
  }
 },
 "nbformat": 4,
 "nbformat_minor": 2
}
