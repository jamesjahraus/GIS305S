{
 "cells": [
  {
   "cell_type": "markdown",
   "metadata": {},
   "source": [
    "## GIS 305 Week 14 - Exercise 3\n",
    "\n",
    "> James Jahraus\n",
    "> 2021-04-27"
   ]
  },
  {
   "cell_type": "code",
   "execution_count": 22,
   "metadata": {},
   "outputs": [],
   "source": [
    "aprx = arcpy.mp.ArcGISProject(\"CURRENT\")\n",
    "map_doc = aprx.listMaps()[0]\n",
    "\n",
    "lyr = map_doc.listLayers(\"U.S. States (Generalized)\")[0]\n",
    "\n",
    "lyr.definitionQuery = \"STATE_NAME = 'Colorado'\""
   ]
  },
  {
   "cell_type": "code",
   "execution_count": null,
   "metadata": {},
   "outputs": [],
   "source": []
  }
 ],
 "metadata": {
  "kernelspec": {
   "display_name": "ArcGISPro",
   "language": "Python",
   "name": "python3"
  },
  "language_info": {
   "file_extension": ".py",
   "name": "python",
   "version": "3"
  }
 },
 "nbformat": 4,
 "nbformat_minor": 2
}
