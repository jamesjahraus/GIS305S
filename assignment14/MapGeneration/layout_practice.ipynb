{
 "cells": [
  {
   "cell_type": "code",
   "execution_count": 1,
   "metadata": {},
   "outputs": [
    {
     "name": "stdout",
     "output_type": "stream",
     "text": [
      "Layout\n",
      "C:\\Users\\james\\OneDriveFRCC\\OneDrive - Colorado Community College System\\Geospatial Science FRCC\\GIS 305\\GIS305S\\assignment14\\MapGeneration\\MapGeneration.aprx\n"
     ]
    }
   ],
   "source": [
    "import arcpy\n",
    "\n",
    "aprx = arcpy.mp.ArcGISProject('Current')\n",
    "lyt_list = aprx.listLayouts()\n",
    "for lyt in lyt_list:\n",
    "    print(lyt.name)\n",
    "    \n",
    "print(aprx.filePath)"
   ]
  },
  {
   "cell_type": "code",
   "execution_count": 2,
   "metadata": {},
   "outputs": [
    {
     "name": "stdout",
     "output_type": "stream",
     "text": [
      "Title\n",
      "Legend\n",
      "Scale Bar\n",
      "North Arrow\n",
      "Map Frame\n"
     ]
    }
   ],
   "source": [
    "lyt = aprx.listLayouts()[0]\n",
    "for el in lyt.listElements():\n",
    "    print(el.name)"
   ]
  },
  {
   "cell_type": "code",
   "execution_count": null,
   "metadata": {},
   "outputs": [],
   "source": []
  },
  {
   "cell_type": "code",
   "execution_count": null,
   "metadata": {},
   "outputs": [],
   "source": []
  }
 ],
 "metadata": {
  "kernelspec": {
   "display_name": "ArcGISPro",
   "language": "Python",
   "name": "python3"
  },
  "language_info": {
   "file_extension": ".py",
   "name": "python",
   "version": "3"
  }
 },
 "nbformat": 4,
 "nbformat_minor": 2
}
